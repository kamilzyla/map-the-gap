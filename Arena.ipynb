{
 "cells": [
  {
   "cell_type": "code",
   "execution_count": 25,
   "metadata": {
    "collapsed": true
   },
   "outputs": [],
   "source": [
    "import csv"
   ]
  },
  {
   "cell_type": "code",
   "execution_count": null,
   "metadata": {
    "collapsed": true
   },
   "outputs": [],
   "source": [
    "# Liczba gmin z białymi plamami internetu"
   ]
  },
  {
   "cell_type": "code",
   "execution_count": 33,
   "metadata": {
    "collapsed": false,
    "scrolled": true
   },
   "outputs": [
    {
     "name": "stdout",
     "output_type": "stream",
     "text": [
      "Miejscowości z białymi plamami:  51382\n",
      "Gmin z białymi planami:  3060\n"
     ]
    }
   ],
   "source": [
    "simc = set()\n",
    "terc = set()\n",
    "with open('../bp_konkurs_2_20160912.csv', 'r') as f:\n",
    "    contentIt = csv.DictReader(f, delimiter=';')\n",
    "    for row in contentIt:\n",
    "        simc.add(row[\"SIMC\"])\n",
    "        terc.add(row[\"TERC\"])\n",
    "print(\"Miejscowości z białymi plamami: \", len(simc))\n",
    "print(\"Gmin z białymi planami: \", len(terc))"
   ]
  },
  {
   "cell_type": "code",
   "execution_count": null,
   "metadata": {
    "collapsed": true
   },
   "outputs": [],
   "source": [
    "# Wszystkie daty tyle samo znaków"
   ]
  },
  {
   "cell_type": "code",
   "execution_count": 41,
   "metadata": {
    "collapsed": false
   },
   "outputs": [
    {
     "name": "stdout",
     "output_type": "stream",
     "text": [
      "True\n"
     ]
    }
   ],
   "source": [
    "s = set()\n",
    "with open('data/LTE1800 - stan na 2017-01-25.csv', 'r') as f:\n",
    "    contentIt = csv.DictReader(f, delimiter=',')\n",
    "    for row in contentIt:\n",
    "        s.add(len(row[\"Dł geogr stacji\"]))\n",
    "        s.add(len(row[\"Szer geogr stacji\"]))\n",
    "\n",
    "print(len(s) == 1)"
   ]
  },
  {
   "cell_type": "code",
   "execution_count": null,
   "metadata": {
    "collapsed": true
   },
   "outputs": [],
   "source": []
  }
 ],
 "metadata": {
  "kernelspec": {
   "display_name": "Python 3",
   "language": "python",
   "name": "python3"
  },
  "language_info": {
   "codemirror_mode": {
    "name": "ipython",
    "version": 3
   },
   "file_extension": ".py",
   "mimetype": "text/x-python",
   "name": "python",
   "nbconvert_exporter": "python",
   "pygments_lexer": "ipython3",
   "version": "3.5.2"
  }
 },
 "nbformat": 4,
 "nbformat_minor": 2
}
