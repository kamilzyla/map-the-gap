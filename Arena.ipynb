{
 "cells": [
  {
   "cell_type": "code",
   "execution_count": 3,
   "metadata": {
    "collapsed": true,
    "deletable": true,
    "editable": true
   },
   "outputs": [],
   "source": [
    "import csv"
   ]
  },
  {
   "cell_type": "code",
   "execution_count": 2,
   "metadata": {
    "collapsed": true
   },
   "outputs": [],
   "source": [
    "btsPath = 'data/LTE1800 - stan na 2017-01-25.csv'\n",
    "bpPath = '../bp_konkurs_2_20160912.csv'"
   ]
  },
  {
   "cell_type": "code",
   "execution_count": null,
   "metadata": {
    "collapsed": true,
    "deletable": true,
    "editable": true
   },
   "outputs": [],
   "source": [
    "# Liczba gmin z białymi plamami internetu"
   ]
  },
  {
   "cell_type": "code",
   "execution_count": 27,
   "metadata": {
    "collapsed": false,
    "deletable": true,
    "editable": true,
    "scrolled": true
   },
   "outputs": [
    {
     "name": "stdout",
     "output_type": "stream",
     "text": [
      "Liczba białych punktów:  2755717\n",
      "Miejscowości z białymi plamami:  51382\n",
      "Gmin z białymi planami:  3060\n"
     ]
    }
   ],
   "source": [
    "simc = set()\n",
    "terc = set()\n",
    "liczbaBialychPunktow = 0\n",
    "with open(bpPath, 'r') as f:\n",
    "    contentIt = csv.DictReader(f, delimiter=';')\n",
    "    for row in contentIt:\n",
    "        simc.add(row[\"SIMC\"])\n",
    "        terc.add(row[\"TERC\"])\n",
    "        liczbaBialychPunktow += 1\n",
    "print(\"Liczba białych punktów: \", liczbaBialychPunktow)\n",
    "print(\"Miejscowości z białymi plamami: \", len(simc))\n",
    "print(\"Gmin z białymi planami: \", len(terc))"
   ]
  },
  {
   "cell_type": "code",
   "execution_count": null,
   "metadata": {
    "collapsed": true,
    "deletable": true,
    "editable": true
   },
   "outputs": [],
   "source": [
    "# Wszystkie daty tyle samo znaków"
   ]
  },
  {
   "cell_type": "code",
   "execution_count": 41,
   "metadata": {
    "collapsed": false,
    "deletable": true,
    "editable": true
   },
   "outputs": [
    {
     "name": "stdout",
     "output_type": "stream",
     "text": [
      "True\n"
     ]
    }
   ],
   "source": [
    "s = set()\n",
    "with open(btsPath, 'r') as f:\n",
    "    contentIt = csv.DictReader(f, delimiter=';')\n",
    "    for row in contentIt:\n",
    "        s.add(len(row[\"Dł geogr stacji\"]))\n",
    "        s.add(len(row[\"Szer geogr stacji\"]))\n",
    "\n",
    "print(len(s) == 1)"
   ]
  },
  {
   "cell_type": "code",
   "execution_count": 1,
   "metadata": {
    "collapsed": true,
    "deletable": true,
    "editable": true
   },
   "outputs": [],
   "source": [
    "# Rozkład liczby domów na gminę"
   ]
  },
  {
   "cell_type": "code",
   "execution_count": 18,
   "metadata": {
    "collapsed": false
   },
   "outputs": [],
   "source": [
    "import collections\n",
    "\n",
    "liczbaDomowNaGmine = collections.defaultdict(int)\n",
    "with open(bpPath, 'r') as f:\n",
    "    contentIt = csv.DictReader(f, delimiter=';')\n",
    "    for row in contentIt:\n",
    "        liczbaDomowNaGmine[row[\"TERC\"]] += 1"
   ]
  },
  {
   "cell_type": "code",
   "execution_count": 19,
   "metadata": {
    "collapsed": false
   },
   "outputs": [
    {
     "name": "stdout",
     "output_type": "stream",
     "text": [
      "50 percentyl:  720.0\n",
      "90 percentyl:  1837.4\n",
      "95 percentyl:  2353.05\n",
      "99 percentyl:  3673.76\n"
     ]
    }
   ],
   "source": [
    "import numpy as np\n",
    "\n",
    "a = np.array(list(liczbaDomowNaGmine.values()))\n",
    "print(\"50 percentyl: \", np.percentile(a, 50))\n",
    "print(\"90 percentyl: \", np.percentile(a, 90))\n",
    "print(\"95 percentyl: \", np.percentile(a, 95))\n",
    "print(\"99 percentyl: \", np.percentile(a, 99))"
   ]
  },
  {
   "cell_type": "code",
   "execution_count": 12,
   "metadata": {
    "collapsed": true
   },
   "outputs": [],
   "source": [
    "# Gminy bez BTSa"
   ]
  },
  {
   "cell_type": "code",
   "execution_count": 21,
   "metadata": {
    "collapsed": false
   },
   "outputs": [],
   "source": [
    "gminaDlaMiejscowosci = {}\n",
    "with open(bpPath, 'r') as f:\n",
    "    contentIt = csv.DictReader(f, delimiter=';')\n",
    "    for row in contentIt:\n",
    "        gminaDlaMiejscowosci[row[\"MIEJSCOWOSC\"]] = row[\"TERC\"]"
   ]
  },
  {
   "cell_type": "code",
   "execution_count": 22,
   "metadata": {
    "collapsed": false
   },
   "outputs": [],
   "source": [
    "gminyZBTSami = set()\n",
    "with open(btsPath, 'r') as f:\n",
    "    contentIt = csv.DictReader(f, delimiter=';')\n",
    "    for row in contentIt:\n",
    "        if row[\"Miejscowość\"].upper() in gminaDlaMiejscowosci:\n",
    "            gminyZBTSami.add(gminaDlaMiejscowosci[row[\"Miejscowość\"].upper()])"
   ]
  },
  {
   "cell_type": "code",
   "execution_count": 28,
   "metadata": {
    "collapsed": false
   },
   "outputs": [
    {
     "name": "stdout",
     "output_type": "stream",
     "text": [
      "Liczba gmin z BTSami:  2549\n",
      "Liczba domów w gminach z BTSami:  2416530\n",
      "Procent domów w gminach z BTSami:  87.69151549306406\n"
     ]
    }
   ],
   "source": [
    "print(\"Liczba gmin z BTSami: \", len(gminyZBTSami))\n",
    "liczbaDomowWGminachZBTSami = sum([liczbaDomowNaGmine[gmina] for gmina in gminyZBTSami])\n",
    "print(\"Liczba domów w gminach z BTSami: \", liczbaDomowWGminachZBTSami)\n",
    "print(\"Procent domów w gminach z BTSami: \", liczbaDomowWGminachZBTSami * 100 / liczbaBialychPunktow)"
   ]
  },
  {
   "cell_type": "code",
   "execution_count": 25,
   "metadata": {
    "collapsed": false
   },
   "outputs": [
    {
     "data": {
      "text/plain": [
       "89.50111111111111"
      ]
     },
     "execution_count": 25,
     "metadata": {},
     "output_type": "execute_result"
    }
   ],
   "source": []
  },
  {
   "cell_type": "code",
   "execution_count": null,
   "metadata": {
    "collapsed": true
   },
   "outputs": [],
   "source": []
  }
 ],
 "metadata": {
  "kernelspec": {
   "display_name": "Python 3",
   "language": "python",
   "name": "python3"
  },
  "language_info": {
   "codemirror_mode": {
    "name": "ipython",
    "version": 3
   },
   "file_extension": ".py",
   "mimetype": "text/x-python",
   "name": "python",
   "nbconvert_exporter": "python",
   "pygments_lexer": "ipython3",
   "version": "3.5.2"
  }
 },
 "nbformat": 4,
 "nbformat_minor": 2
}
